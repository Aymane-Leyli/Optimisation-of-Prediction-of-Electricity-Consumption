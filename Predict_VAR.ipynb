{
 "cells": [
  {
   "cell_type": "code",
   "execution_count": 145,
   "metadata": {},
   "outputs": [],
   "source": [
    "import pandas as pd\n",
    "import statsmodels as sm\n",
    "import sklearn\n",
    "import matplotlib.pyplot as plt\n",
    "import matplotlib\n",
    "import numpy as np\n",
    "from sklearn.model_selection import TimeSeriesSplit\n",
    "from sklearn.metrics import mean_squared_error\n",
    "from datetime import datetime,date\n",
    "from statsmodels.tsa.arima_model import ARIMA\n",
    "from statsmodels.graphics.tsaplots import plot_acf, plot_pacf\n",
    "import statsmodels.tsa.seasonal\n",
    "from sklearn.preprocessing import MinMaxScaler"
   ]
  },
  {
   "cell_type": "code",
   "execution_count": 146,
   "metadata": {},
   "outputs": [],
   "source": [
    "donnee =pd.read_table(\"train.csv\",sep = ',',header = 0)"
   ]
  },
  {
   "cell_type": "code",
   "execution_count": 147,
   "metadata": {},
   "outputs": [
    {
     "data": {
      "text/plain": [
       "Index(['ID', 'datetime', 'temperature', 'var1', 'pressure', 'windspeed',\n",
       "       'var2', 'electricity_consumption'],\n",
       "      dtype='object')"
      ]
     },
     "execution_count": 147,
     "metadata": {},
     "output_type": "execute_result"
    }
   ],
   "source": [
    "donnee.columns"
   ]
  },
  {
   "cell_type": "code",
   "execution_count": 148,
   "metadata": {},
   "outputs": [],
   "source": [
    "donnee=donnee[['temperature','electricity_consumption']]"
   ]
  },
  {
   "cell_type": "code",
   "execution_count": 149,
   "metadata": {},
   "outputs": [
    {
     "name": "stdout",
     "output_type": "stream",
     "text": [
      "<class 'pandas.core.frame.DataFrame'>\n",
      "RangeIndex: 26496 entries, 0 to 26495\n",
      "Data columns (total 2 columns):\n",
      "temperature                26496 non-null float64\n",
      "electricity_consumption    26496 non-null float64\n",
      "dtypes: float64(2)\n",
      "memory usage: 414.1 KB\n"
     ]
    }
   ],
   "source": [
    "donnee.info()"
   ]
  },
  {
   "cell_type": "code",
   "execution_count": 150,
   "metadata": {},
   "outputs": [],
   "source": [
    "dataa=donnee[:552]"
   ]
  },
  {
   "cell_type": "code",
   "execution_count": 151,
   "metadata": {},
   "outputs": [
    {
     "name": "stdout",
     "output_type": "stream",
     "text": [
      "<class 'pandas.core.frame.DataFrame'>\n",
      "RangeIndex: 552 entries, 0 to 551\n",
      "Data columns (total 2 columns):\n",
      "temperature                552 non-null float64\n",
      "electricity_consumption    552 non-null float64\n",
      "dtypes: float64(2)\n",
      "memory usage: 8.7 KB\n"
     ]
    }
   ],
   "source": [
    "dataa.info()"
   ]
  },
  {
   "cell_type": "code",
   "execution_count": 152,
   "metadata": {},
   "outputs": [],
   "source": [
    "timesseries=pd.DataFrame(data= dataa.values, columns= ['temperature','electricity_consumption'] , index=pd.DatetimeIndex(start='2013-07-01 00:00:00' , periods=552 , freq='h'))\n",
    "training=timesseries[:505]\n",
    "test=timesseries['electricity_consumption'][505:]"
   ]
  },
  {
   "cell_type": "code",
   "execution_count": 153,
   "metadata": {},
   "outputs": [
    {
     "data": {
      "text/html": [
       "<div>\n",
       "<style scoped>\n",
       "    .dataframe tbody tr th:only-of-type {\n",
       "        vertical-align: middle;\n",
       "    }\n",
       "\n",
       "    .dataframe tbody tr th {\n",
       "        vertical-align: top;\n",
       "    }\n",
       "\n",
       "    .dataframe thead th {\n",
       "        text-align: right;\n",
       "    }\n",
       "</style>\n",
       "<table border=\"1\" class=\"dataframe\">\n",
       "  <thead>\n",
       "    <tr style=\"text-align: right;\">\n",
       "      <th></th>\n",
       "      <th>temperature</th>\n",
       "      <th>electricity_consumption</th>\n",
       "    </tr>\n",
       "  </thead>\n",
       "  <tbody>\n",
       "    <tr>\n",
       "      <th>2013-07-01 00:00:00</th>\n",
       "      <td>-11.4</td>\n",
       "      <td>216.0</td>\n",
       "    </tr>\n",
       "    <tr>\n",
       "      <th>2013-07-01 01:00:00</th>\n",
       "      <td>-12.1</td>\n",
       "      <td>210.0</td>\n",
       "    </tr>\n",
       "    <tr>\n",
       "      <th>2013-07-01 02:00:00</th>\n",
       "      <td>-12.9</td>\n",
       "      <td>225.0</td>\n",
       "    </tr>\n",
       "    <tr>\n",
       "      <th>2013-07-01 03:00:00</th>\n",
       "      <td>-11.4</td>\n",
       "      <td>216.0</td>\n",
       "    </tr>\n",
       "    <tr>\n",
       "      <th>2013-07-01 04:00:00</th>\n",
       "      <td>-11.4</td>\n",
       "      <td>222.0</td>\n",
       "    </tr>\n",
       "  </tbody>\n",
       "</table>\n",
       "</div>"
      ],
      "text/plain": [
       "                     temperature  electricity_consumption\n",
       "2013-07-01 00:00:00        -11.4                    216.0\n",
       "2013-07-01 01:00:00        -12.1                    210.0\n",
       "2013-07-01 02:00:00        -12.9                    225.0\n",
       "2013-07-01 03:00:00        -11.4                    216.0\n",
       "2013-07-01 04:00:00        -11.4                    222.0"
      ]
     },
     "execution_count": 153,
     "metadata": {},
     "output_type": "execute_result"
    }
   ],
   "source": [
    "timesseries.head()"
   ]
  },
  {
   "cell_type": "code",
   "execution_count": 154,
   "metadata": {},
   "outputs": [],
   "source": [
    " #Test de stationarite\n",
    "    \n",
    "from statsmodels.tsa.stattools import adfuller\n",
    "def stationarity_test(timeseries):\n",
    "    from statsmodels.tsa.stattools import adfuller\n",
    "    print(\"Result of Dickey-Fuller Test:\")\n",
    "    df_test=adfuller(timeseries,autolag=\"AIC\")\n",
    "    df_output=pd.Series(df_test[0:4],index= [\"Test Statistic\", \"p-value\", \"#Lags Used\", \"Number of Observations Used\"])\n",
    "    \n",
    "    \n",
    "    for k,val in df_test[4].items():\n",
    "        df_output['valeur critique (%s)'%k]=val\n",
    "    print(df_output)"
   ]
  },
  {
   "cell_type": "code",
   "execution_count": 155,
   "metadata": {
    "scrolled": true
   },
   "outputs": [
    {
     "name": "stdout",
     "output_type": "stream",
     "text": [
      "Result of Dickey-Fuller Test:\n",
      "Test Statistic                  -3.949850\n",
      "p-value                          0.001697\n",
      "#Lags Used                      18.000000\n",
      "Number of Observations Used    486.000000\n",
      "valeur critique (1%)            -3.443877\n",
      "valeur critique (5%)            -2.867505\n",
      "valeur critique (10%)           -2.569947\n",
      "dtype: float64\n",
      "Result of Dickey-Fuller Test:\n",
      "Test Statistic                  -4.035693\n",
      "p-value                          0.001235\n",
      "#Lags Used                       0.000000\n",
      "Number of Observations Used    504.000000\n",
      "valeur critique (1%)            -3.443392\n",
      "valeur critique (5%)            -2.867292\n",
      "valeur critique (10%)           -2.569833\n",
      "dtype: float64\n"
     ]
    },
    {
     "data": {
      "text/plain": [
       "temperature                None\n",
       "electricity_consumption    None\n",
       "dtype: object"
      ]
     },
     "execution_count": 155,
     "metadata": {},
     "output_type": "execute_result"
    }
   ],
   "source": [
    "import functools\n",
    "training.apply(functools.partial(stationarity_test))"
   ]
  },
  {
   "cell_type": "code",
   "execution_count": 156,
   "metadata": {},
   "outputs": [],
   "source": [
    "#Creation du model:\n",
    "from statsmodels.tsa.vector_ar.var_model import VAR\n",
    "\n",
    "model = VAR(training)\n"
   ]
  },
  {
   "cell_type": "code",
   "execution_count": 157,
   "metadata": {
    "scrolled": true
   },
   "outputs": [
    {
     "data": {
      "text/html": [
       "<table class=\"simpletable\">\n",
       "<caption>VAR Order Selection (* highlights the minimums)</caption>\n",
       "<tr>\n",
       "   <td></td>      <th>AIC</th>         <th>BIC</th>         <th>FPE</th>        <th>HQIC</th>    \n",
       "</tr>\n",
       "<tr>\n",
       "  <th>0</th>  <td>     10.23</td>  <td>     10.25</td>  <td> 2.785e+04</td>  <td>     10.24</td> \n",
       "</tr>\n",
       "<tr>\n",
       "  <th>1</th>  <td>     7.137</td>  <td>     7.189*</td> <td>     1257.</td>  <td>     7.157</td> \n",
       "</tr>\n",
       "<tr>\n",
       "  <th>2</th>  <td>     7.127</td>  <td>     7.214</td>  <td>     1245.</td>  <td>     7.161</td> \n",
       "</tr>\n",
       "<tr>\n",
       "  <th>3</th>  <td>     7.121</td>  <td>     7.242</td>  <td>     1238.</td>  <td>     7.168</td> \n",
       "</tr>\n",
       "<tr>\n",
       "  <th>4</th>  <td>     7.056</td>  <td>     7.212</td>  <td>     1160.</td>  <td>     7.117</td> \n",
       "</tr>\n",
       "<tr>\n",
       "  <th>5</th>  <td>     7.010</td>  <td>     7.200</td>  <td>     1108.</td>  <td>     7.084*</td>\n",
       "</tr>\n",
       "<tr>\n",
       "  <th>6</th>  <td>     6.999*</td> <td>     7.223</td>  <td>     1096.*</td> <td>     7.087</td> \n",
       "</tr>\n",
       "<tr>\n",
       "  <th>7</th>  <td>     7.006</td>  <td>     7.265</td>  <td>     1104.</td>  <td>     7.108</td> \n",
       "</tr>\n",
       "<tr>\n",
       "  <th>8</th>  <td>     7.014</td>  <td>     7.308</td>  <td>     1112.</td>  <td>     7.129</td> \n",
       "</tr>\n",
       "<tr>\n",
       "  <th>9</th>  <td>     7.009</td>  <td>     7.337</td>  <td>     1107.</td>  <td>     7.138</td> \n",
       "</tr>\n",
       "<tr>\n",
       "  <th>10</th> <td>     7.018</td>  <td>     7.380</td>  <td>     1117.</td>  <td>     7.160</td> \n",
       "</tr>\n",
       "<tr>\n",
       "  <th>11</th> <td>     7.016</td>  <td>     7.413</td>  <td>     1115.</td>  <td>     7.172</td> \n",
       "</tr>\n",
       "<tr>\n",
       "  <th>12</th> <td>     7.018</td>  <td>     7.449</td>  <td>     1116.</td>  <td>     7.187</td> \n",
       "</tr>\n",
       "<tr>\n",
       "  <th>13</th> <td>     7.033</td>  <td>     7.498</td>  <td>     1133.</td>  <td>     7.216</td> \n",
       "</tr>\n",
       "<tr>\n",
       "  <th>14</th> <td>     7.040</td>  <td>     7.540</td>  <td>     1142.</td>  <td>     7.236</td> \n",
       "</tr>\n",
       "<tr>\n",
       "  <th>15</th> <td>     7.053</td>  <td>     7.588</td>  <td>     1157.</td>  <td>     7.263</td> \n",
       "</tr>\n",
       "<tr>\n",
       "  <th>16</th> <td>     7.058</td>  <td>     7.627</td>  <td>     1162.</td>  <td>     7.282</td> \n",
       "</tr>\n",
       "<tr>\n",
       "  <th>17</th> <td>     7.072</td>  <td>     7.676</td>  <td>     1179.</td>  <td>     7.309</td> \n",
       "</tr>\n",
       "<tr>\n",
       "  <th>18</th> <td>     7.068</td>  <td>     7.706</td>  <td>     1174.</td>  <td>     7.319</td> \n",
       "</tr>\n",
       "<tr>\n",
       "  <th>19</th> <td>     7.075</td>  <td>     7.748</td>  <td>     1182.</td>  <td>     7.339</td> \n",
       "</tr>\n",
       "<tr>\n",
       "  <th>20</th> <td>     7.002</td>  <td>     7.710</td>  <td>     1100.</td>  <td>     7.280</td> \n",
       "</tr>\n",
       "</table>"
      ],
      "text/plain": [
       "<class 'statsmodels.iolib.table.SimpleTable'>"
      ]
     },
     "execution_count": 157,
     "metadata": {},
     "output_type": "execute_result"
    }
   ],
   "source": [
    "#chercher le meilleur model :\n",
    "\n",
    "modselect = model.select_order(20)\n",
    "modselect.summary()"
   ]
  },
  {
   "cell_type": "code",
   "execution_count": 158,
   "metadata": {},
   "outputs": [
    {
     "data": {
      "text/plain": [
       "  Summary of Regression Results   \n",
       "==================================\n",
       "Model:                         VAR\n",
       "Method:                        OLS\n",
       "Date:           Sat, 11, Jan, 2020\n",
       "Time:                     19:59:27\n",
       "--------------------------------------------------------------------\n",
       "No. of Equations:         2.00000    BIC:                    7.20012\n",
       "Nobs:                     499.000    HQIC:                   7.06676\n",
       "Log likelihood:          -3131.77    FPE:                    1075.62\n",
       "AIC:                      6.98063    Det(Omega_mle):         1021.69\n",
       "--------------------------------------------------------------------\n",
       "Results for equation temperature\n",
       "=============================================================================================\n",
       "                                coefficient       std. error           t-stat            prob\n",
       "---------------------------------------------------------------------------------------------\n",
       "const                             -2.252567         0.370463           -6.080           0.000\n",
       "L1.temperature                     0.613145         0.044842           13.673           0.000\n",
       "L1.electricity_consumption        -0.000628         0.002773           -0.226           0.821\n",
       "L2.temperature                     0.292994         0.052444            5.587           0.000\n",
       "L2.electricity_consumption         0.003121         0.003692            0.845           0.398\n",
       "L3.temperature                     0.122316         0.054131            2.260           0.024\n",
       "L3.electricity_consumption        -0.003218         0.003662           -0.879           0.380\n",
       "L4.temperature                    -0.024983         0.054554           -0.458           0.647\n",
       "L4.electricity_consumption         0.001398         0.003660            0.382           0.702\n",
       "L5.temperature                    -0.133584         0.053453           -2.499           0.012\n",
       "L5.electricity_consumption        -0.000945         0.003663           -0.258           0.796\n",
       "L6.temperature                    -0.153885         0.045796           -3.360           0.001\n",
       "L6.electricity_consumption         0.000177         0.002764            0.064           0.949\n",
       "=============================================================================================\n",
       "\n",
       "Results for equation electricity_consumption\n",
       "=============================================================================================\n",
       "                                coefficient       std. error           t-stat            prob\n",
       "---------------------------------------------------------------------------------------------\n",
       "const                             24.523473         6.043960            4.058           0.000\n",
       "L1.temperature                    -0.385549         0.731582           -0.527           0.598\n",
       "L1.electricity_consumption         0.888323         0.045233           19.639           0.000\n",
       "L2.temperature                    -0.323705         0.855601           -0.378           0.705\n",
       "L2.electricity_consumption         0.098009         0.060236            1.627           0.104\n",
       "L3.temperature                    -0.350158         0.883120           -0.397           0.692\n",
       "L3.electricity_consumption        -0.021132         0.059740           -0.354           0.724\n",
       "L4.temperature                     2.674137         0.890033            3.005           0.003\n",
       "L4.electricity_consumption        -0.104162         0.059705           -1.745           0.081\n",
       "L5.temperature                    -0.902212         0.872062           -1.035           0.301\n",
       "L5.electricity_consumption         0.137500         0.059756            2.301           0.021\n",
       "L6.temperature                     0.023730         0.747137            0.032           0.975\n",
       "L6.electricity_consumption        -0.074209         0.045090           -1.646           0.100\n",
       "=============================================================================================\n",
       "\n",
       "Correlation matrix of residuals\n",
       "                           temperature  electricity_consumption\n",
       "temperature                   1.000000                -0.000734\n",
       "electricity_consumption      -0.000734                 1.000000\n",
       "\n"
      ]
     },
     "execution_count": 158,
     "metadata": {},
     "output_type": "execute_result"
    }
   ],
   "source": [
    "#recherche automatique le meilleur parametre:\n",
    "\n",
    "results = model.fit(maxlags=20, ic='aic')\n",
    "results.summary()\n"
   ]
  },
  {
   "cell_type": "code",
   "execution_count": 159,
   "metadata": {},
   "outputs": [
    {
     "name": "stdout",
     "output_type": "stream",
     "text": [
      "causalite de la temperature\n"
     ]
    },
    {
     "data": {
      "text/html": [
       "<table class=\"simpletable\">\n",
       "<caption>Granger causality F-test. H_0: temperature does not Granger-cause electricity_consumption. Conclusion: reject H_0 at 5% significance level.</caption>\n",
       "<tr>\n",
       "  <th>Test statistic</th> <th>Critical value</th> <th>p-value</th>    <th>df</th>   \n",
       "</tr>\n",
       "<tr>\n",
       "       <td>2.339</td>          <td>2.108</td>      <td>0.030</td>  <td>(6, 972)</td>\n",
       "</tr>\n",
       "</table>"
      ],
      "text/plain": [
       "<class 'statsmodels.iolib.table.SimpleTable'>"
      ]
     },
     "execution_count": 159,
     "metadata": {},
     "output_type": "execute_result"
    }
   ],
   "source": [
    "#Causalite par le test de Granger:\n",
    "print('causalite de la temperature')\n",
    "causalite1 = results.test_causality(['electricity_consumption'],['temperature'],kind='f')\n",
    "causalite1.summary()\n",
    "\n"
   ]
  },
  {
   "cell_type": "code",
   "execution_count": 160,
   "metadata": {},
   "outputs": [
    {
     "data": {
      "text/plain": [
       "\"print('causalite de la pression')\\ncausalite2 = results.test_causality(['electricity_consumption'],['pressure'],kind='f')\\ncausalite2.summary()\\n\""
      ]
     },
     "execution_count": 160,
     "metadata": {},
     "output_type": "execute_result"
    }
   ],
   "source": [
    "'''print('causalite de la pression')\n",
    "causalite2 = results.test_causality(['electricity_consumption'],['pressure'],kind='f')\n",
    "causalite2.summary()\n",
    "'''\n"
   ]
  },
  {
   "cell_type": "code",
   "execution_count": 161,
   "metadata": {},
   "outputs": [],
   "source": [
    "#print('causalite du vent')\n",
    "#causalite3 = results.test_causality(['electricity_consumption'],['windspeed'],kind='f')\n",
    "#causalite3.summary()"
   ]
  },
  {
   "cell_type": "code",
   "execution_count": 162,
   "metadata": {},
   "outputs": [],
   "source": [
    "fcast= results.forecast(training.values, 48)"
   ]
  },
  {
   "cell_type": "code",
   "execution_count": 163,
   "metadata": {},
   "outputs": [
    {
     "data": {
      "text/html": [
       "<div>\n",
       "<style scoped>\n",
       "    .dataframe tbody tr th:only-of-type {\n",
       "        vertical-align: middle;\n",
       "    }\n",
       "\n",
       "    .dataframe tbody tr th {\n",
       "        vertical-align: top;\n",
       "    }\n",
       "\n",
       "    .dataframe thead th {\n",
       "        text-align: right;\n",
       "    }\n",
       "</style>\n",
       "<table border=\"1\" class=\"dataframe\">\n",
       "  <thead>\n",
       "    <tr style=\"text-align: right;\">\n",
       "      <th></th>\n",
       "      <th>0</th>\n",
       "      <th>1</th>\n",
       "    </tr>\n",
       "  </thead>\n",
       "  <tbody>\n",
       "    <tr>\n",
       "      <th>0</th>\n",
       "      <td>-11.219265</td>\n",
       "      <td>384.278209</td>\n",
       "    </tr>\n",
       "    <tr>\n",
       "      <th>1</th>\n",
       "      <td>-11.220123</td>\n",
       "      <td>379.919024</td>\n",
       "    </tr>\n",
       "    <tr>\n",
       "      <th>2</th>\n",
       "      <td>-10.950107</td>\n",
       "      <td>366.934552</td>\n",
       "    </tr>\n",
       "    <tr>\n",
       "      <th>3</th>\n",
       "      <td>-10.841677</td>\n",
       "      <td>356.916954</td>\n",
       "    </tr>\n",
       "    <tr>\n",
       "      <th>4</th>\n",
       "      <td>-10.304967</td>\n",
       "      <td>345.776883</td>\n",
       "    </tr>\n",
       "  </tbody>\n",
       "</table>\n",
       "</div>"
      ],
      "text/plain": [
       "           0           1\n",
       "0 -11.219265  384.278209\n",
       "1 -11.220123  379.919024\n",
       "2 -10.950107  366.934552\n",
       "3 -10.841677  356.916954\n",
       "4 -10.304967  345.776883"
      ]
     },
     "execution_count": 163,
     "metadata": {},
     "output_type": "execute_result"
    }
   ],
   "source": [
    "pd.DataFrame(fcast).head(5)"
   ]
  },
  {
   "cell_type": "code",
   "execution_count": 175,
   "metadata": {},
   "outputs": [],
   "source": [
    "vallues=pd.DataFrame(fcast)[1]\n",
    "vallues.head(10)\n",
    "predict=pd.Series(vallues.values,index=pd.date_range('2013-07-22 00:00:00',periods=48,freq='h'))\n"
   ]
  },
  {
   "cell_type": "code",
   "execution_count": null,
   "metadata": {},
   "outputs": [],
   "source": []
  },
  {
   "cell_type": "code",
   "execution_count": 179,
   "metadata": {},
   "outputs": [],
   "source": [
    "predict=predict-15"
   ]
  },
  {
   "cell_type": "code",
   "execution_count": 180,
   "metadata": {},
   "outputs": [
    {
     "data": {
      "image/png": "[encoded data removed]",
      "text/plain": [
       "<Figure size 432x288 with 1 Axes>"
      ]
     },
     "metadata": {},
     "output_type": "display_data"
    }
   ],
   "source": [
    "predict.plot()\n",
    "test.plot(color='r')\n",
    "\n",
    "plt.show()"
   ]
  },
  {
   "cell_type": "code",
   "execution_count": null,
   "metadata": {},
   "outputs": [],
   "source": []
  },
  {
   "cell_type": "code",
   "execution_count": null,
   "metadata": {},
   "outputs": [],
   "source": []
  },
  {
   "cell_type": "code",
   "execution_count": null,
   "metadata": {},
   "outputs": [],
   "source": []
  }
 ],
 "metadata": {
  "kernelspec": {
   "display_name": "Python 3",
   "language": "python",
   "name": "python3"
  },
  "language_info": {
   "codemirror_mode": {
    "name": "ipython",
    "version": 3
   },
   "file_extension": ".py",
   "mimetype": "text/x-python",
   "name": "python",
   "nbconvert_exporter": "python",
   "pygments_lexer": "ipython3",
   "version": "3.7.4"
  }
 },
 "nbformat": 4,
 "nbformat_minor": 2
}
