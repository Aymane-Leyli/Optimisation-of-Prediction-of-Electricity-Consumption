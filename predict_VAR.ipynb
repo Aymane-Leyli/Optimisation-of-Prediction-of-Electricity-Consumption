{
 "cells": [
  {
   "cell_type": "code",
   "execution_count": 19,
   "metadata": {},
   "outputs": [],
   "source": [
    "import pandas as pd\n",
    "import statsmodels as sm\n",
    "import matplotlib.pyplot as plt\n",
    "import matplotlib\n",
    "import numpy as np\n",
    "from sklearn.metrics import mean_squared_error\n",
    "from datetime import datetime,date\n",
    "import statsmodels.tsa.seasonal\n",
    "from statsmodels.tsa.vector_ar.var_model import VAR\n",
    "import copy"
   ]
  },
  {
   "cell_type": "code",
   "execution_count": 20,
   "metadata": {},
   "outputs": [],
   "source": [
    "#importation des données\n",
    "data=pd.read_table(\"train.csv\",sep = ',',header = 0)"
   ]
  },
  {
   "cell_type": "code",
   "execution_count": 21,
   "metadata": {},
   "outputs": [
    {
     "data": {
      "text/plain": [
       "Index(['ID', 'datetime', 'temperature', 'var1', 'pressure', 'windspeed',\n",
       "       'var2', 'electricity_consumption'],\n",
       "      dtype='object')"
      ]
     },
     "execution_count": 21,
     "metadata": {},
     "output_type": "execute_result"
    }
   ],
   "source": [
    "data.columns"
   ]
  },
  {
   "cell_type": "code",
   "execution_count": 22,
   "metadata": {},
   "outputs": [],
   "source": [
    "data=data[['temperature','pressure','windspeed','electricity_consumption']]"
   ]
  },
  {
   "cell_type": "code",
   "execution_count": 23,
   "metadata": {},
   "outputs": [],
   "source": [
    "data9=data[1104:1656]"
   ]
  },
  {
   "cell_type": "code",
   "execution_count": 24,
   "metadata": {},
   "outputs": [
    {
     "name": "stdout",
     "output_type": "stream",
     "text": [
      "<class 'pandas.core.frame.DataFrame'>\n",
      "RangeIndex: 552 entries, 1104 to 1655\n",
      "Data columns (total 4 columns):\n",
      "temperature                552 non-null float64\n",
      "pressure                   552 non-null float64\n",
      "windspeed                  552 non-null float64\n",
      "electricity_consumption    552 non-null float64\n",
      "dtypes: float64(4)\n",
      "memory usage: 17.4 KB\n"
     ]
    }
   ],
   "source": [
    "data9.info()"
   ]
  },
  {
   "cell_type": "code",
   "execution_count": 25,
   "metadata": {},
   "outputs": [
    {
     "name": "stderr",
     "output_type": "stream",
     "text": [
      "C:\\Users\\aymane leyli\\Miniconda3\\lib\\site-packages\\ipykernel_launcher.py:1: FutureWarning: Creating a DatetimeIndex by passing range endpoints is deprecated.  Use `pandas.date_range` instead.\n",
      "  \"\"\"Entry point for launching an IPython kernel.\n"
     ]
    }
   ],
   "source": [
    "# extraire les colonnes qui nous intéresse.\n",
    "timeseries=pd.DataFrame(data= data9.values, columns= ['temperature','pressure','windspeed','electricity_consumption'] , index=pd.DatetimeIndex(start='2013-09-01 00:00:00' , periods=552 , freq='h'))\n",
    "training=timeseries[:408]\n",
    "test=timeseries['electricity_consumption'][408:]"
   ]
  },
  {
   "cell_type": "code",
   "execution_count": 26,
   "metadata": {},
   "outputs": [
    {
     "data": {
      "text/html": [
       "<div>\n",
       "<style scoped>\n",
       "    .dataframe tbody tr th:only-of-type {\n",
       "        vertical-align: middle;\n",
       "    }\n",
       "\n",
       "    .dataframe tbody tr th {\n",
       "        vertical-align: top;\n",
       "    }\n",
       "\n",
       "    .dataframe thead th {\n",
       "        text-align: right;\n",
       "    }\n",
       "</style>\n",
       "<table border=\"1\" class=\"dataframe\">\n",
       "  <thead>\n",
       "    <tr style=\"text-align: right;\">\n",
       "      <th></th>\n",
       "      <th>temperature</th>\n",
       "      <th>pressure</th>\n",
       "      <th>windspeed</th>\n",
       "      <th>electricity_consumption</th>\n",
       "    </tr>\n",
       "  </thead>\n",
       "  <tbody>\n",
       "    <tr>\n",
       "      <th>2013-09-01 00:00:00</th>\n",
       "      <td>-1.4</td>\n",
       "      <td>1002.0</td>\n",
       "      <td>7.760</td>\n",
       "      <td>249.0</td>\n",
       "    </tr>\n",
       "    <tr>\n",
       "      <th>2013-09-01 01:00:00</th>\n",
       "      <td>-5.0</td>\n",
       "      <td>1002.0</td>\n",
       "      <td>2.765</td>\n",
       "      <td>243.0</td>\n",
       "    </tr>\n",
       "    <tr>\n",
       "      <th>2013-09-01 02:00:00</th>\n",
       "      <td>-5.7</td>\n",
       "      <td>992.0</td>\n",
       "      <td>2.215</td>\n",
       "      <td>237.0</td>\n",
       "    </tr>\n",
       "    <tr>\n",
       "      <th>2013-09-01 03:00:00</th>\n",
       "      <td>-6.4</td>\n",
       "      <td>996.0</td>\n",
       "      <td>3.230</td>\n",
       "      <td>243.0</td>\n",
       "    </tr>\n",
       "    <tr>\n",
       "      <th>2013-09-01 04:00:00</th>\n",
       "      <td>-6.4</td>\n",
       "      <td>993.0</td>\n",
       "      <td>3.165</td>\n",
       "      <td>231.0</td>\n",
       "    </tr>\n",
       "    <tr>\n",
       "      <th>...</th>\n",
       "      <td>...</td>\n",
       "      <td>...</td>\n",
       "      <td>...</td>\n",
       "      <td>...</td>\n",
       "    </tr>\n",
       "    <tr>\n",
       "      <th>2013-09-23 19:00:00</th>\n",
       "      <td>5.7</td>\n",
       "      <td>991.0</td>\n",
       "      <td>10.565</td>\n",
       "      <td>183.0</td>\n",
       "    </tr>\n",
       "    <tr>\n",
       "      <th>2013-09-23 20:00:00</th>\n",
       "      <td>4.3</td>\n",
       "      <td>992.0</td>\n",
       "      <td>13.570</td>\n",
       "      <td>201.0</td>\n",
       "    </tr>\n",
       "    <tr>\n",
       "      <th>2013-09-23 21:00:00</th>\n",
       "      <td>2.9</td>\n",
       "      <td>1004.0</td>\n",
       "      <td>17.990</td>\n",
       "      <td>189.0</td>\n",
       "    </tr>\n",
       "    <tr>\n",
       "      <th>2013-09-23 22:00:00</th>\n",
       "      <td>4.3</td>\n",
       "      <td>987.0</td>\n",
       "      <td>22.660</td>\n",
       "      <td>204.0</td>\n",
       "    </tr>\n",
       "    <tr>\n",
       "      <th>2013-09-23 23:00:00</th>\n",
       "      <td>4.3</td>\n",
       "      <td>999.0</td>\n",
       "      <td>28.470</td>\n",
       "      <td>213.0</td>\n",
       "    </tr>\n",
       "  </tbody>\n",
       "</table>\n",
       "<p>552 rows × 4 columns</p>\n",
       "</div>"
      ],
      "text/plain": [
       "                     temperature  pressure  windspeed  electricity_consumption\n",
       "2013-09-01 00:00:00         -1.4    1002.0      7.760                    249.0\n",
       "2013-09-01 01:00:00         -5.0    1002.0      2.765                    243.0\n",
       "2013-09-01 02:00:00         -5.7     992.0      2.215                    237.0\n",
       "2013-09-01 03:00:00         -6.4     996.0      3.230                    243.0\n",
       "2013-09-01 04:00:00         -6.4     993.0      3.165                    231.0\n",
       "...                          ...       ...        ...                      ...\n",
       "2013-09-23 19:00:00          5.7     991.0     10.565                    183.0\n",
       "2013-09-23 20:00:00          4.3     992.0     13.570                    201.0\n",
       "2013-09-23 21:00:00          2.9    1004.0     17.990                    189.0\n",
       "2013-09-23 22:00:00          4.3     987.0     22.660                    204.0\n",
       "2013-09-23 23:00:00          4.3     999.0     28.470                    213.0\n",
       "\n",
       "[552 rows x 4 columns]"
      ]
     },
     "execution_count": 26,
     "metadata": {},
     "output_type": "execute_result"
    }
   ],
   "source": [
    "timeseries"
   ]
  },
  {
   "cell_type": "code",
   "execution_count": 27,
   "metadata": {},
   "outputs": [],
   "source": [
    " #Test de stationarite\n",
    "    \n",
    "from statsmodels.tsa.stattools import adfuller\n",
    "def stationarity_test(timeseries):\n",
    "    from statsmodels.tsa.stattools import adfuller\n",
    "    print(\"Result of Dickey-Fuller Test:\")\n",
    "    df_test=adfuller(timeseries,autolag=\"AIC\")\n",
    "    df_output=pd.Series(df_test[0:4],index= [\"Test Statistic\", \"p-value\", \"#Lags Used\", \"Number of Observations Used\"])\n",
    "    \n",
    "    \n",
    "    for k,val in df_test[4].items():\n",
    "        df_output['valeur critique (%s)'%k]=val\n",
    "    print(df_output)"
   ]
  },
  {
   "cell_type": "code",
   "execution_count": 28,
   "metadata": {},
   "outputs": [
    {
     "name": "stdout",
     "output_type": "stream",
     "text": [
      "Result of Dickey-Fuller Test:\n",
      "Test Statistic                  -2.992726\n",
      "p-value                          0.035579\n",
      "#Lags Used                      18.000000\n",
      "Number of Observations Used    389.000000\n",
      "valeur critique (1%)            -3.447273\n",
      "valeur critique (5%)            -2.868999\n",
      "valeur critique (10%)           -2.570743\n",
      "dtype: float64\n",
      "Result of Dickey-Fuller Test:\n",
      "Test Statistic                  -2.758945\n",
      "p-value                          0.064382\n",
      "#Lags Used                       7.000000\n",
      "Number of Observations Used    400.000000\n",
      "valeur critique (1%)            -3.446804\n",
      "valeur critique (5%)            -2.868793\n",
      "valeur critique (10%)           -2.570634\n",
      "dtype: float64\n",
      "Result of Dickey-Fuller Test:\n",
      "Test Statistic                  -3.305812\n",
      "p-value                          0.014621\n",
      "#Lags Used                       0.000000\n",
      "Number of Observations Used    407.000000\n",
      "valeur critique (1%)            -3.446520\n",
      "valeur critique (5%)            -2.868668\n",
      "valeur critique (10%)           -2.570567\n",
      "dtype: float64\n",
      "Result of Dickey-Fuller Test:\n",
      "Test Statistic                  -2.356995\n",
      "p-value                          0.154244\n",
      "#Lags Used                       0.000000\n",
      "Number of Observations Used    407.000000\n",
      "valeur critique (1%)            -3.446520\n",
      "valeur critique (5%)            -2.868668\n",
      "valeur critique (10%)           -2.570567\n",
      "dtype: float64\n"
     ]
    },
    {
     "data": {
      "text/plain": [
       "temperature                None\n",
       "pressure                   None\n",
       "windspeed                  None\n",
       "electricity_consumption    None\n",
       "dtype: object"
      ]
     },
     "execution_count": 28,
     "metadata": {},
     "output_type": "execute_result"
    }
   ],
   "source": [
    "#Appliquer le test de stationnarité sur chaque colonne de notre série.\n",
    "import functools\n",
    "training.apply(functools.partial(stationarity_test))"
   ]
  },
  {
   "cell_type": "code",
   "execution_count": 29,
   "metadata": {},
   "outputs": [],
   "source": [
    "model = VAR(training)"
   ]
  },
  {
   "cell_type": "code",
   "execution_count": 30,
   "metadata": {},
   "outputs": [
    {
     "data": {
      "text/html": [
       "<table class=\"simpletable\">\n",
       "<caption>VAR Order Selection (* highlights the minimums)</caption>\n",
       "<tr>\n",
       "   <td></td>      <th>AIC</th>         <th>BIC</th>         <th>FPE</th>        <th>HQIC</th>    \n",
       "</tr>\n",
       "<tr>\n",
       "  <th>0</th>  <td>     23.90</td>  <td>     23.94</td>  <td> 2.402e+10</td>  <td>     23.92</td> \n",
       "</tr>\n",
       "<tr>\n",
       "  <th>1</th>  <td>     17.26</td>  <td>     17.47*</td> <td> 3.144e+07</td>  <td>     17.34*</td>\n",
       "</tr>\n",
       "<tr>\n",
       "  <th>2</th>  <td>     17.26</td>  <td>     17.62</td>  <td> 3.118e+07</td>  <td>     17.40</td> \n",
       "</tr>\n",
       "<tr>\n",
       "  <th>3</th>  <td>     17.23</td>  <td>     17.76</td>  <td> 3.045e+07</td>  <td>     17.44</td> \n",
       "</tr>\n",
       "<tr>\n",
       "  <th>4</th>  <td>     17.18</td>  <td>     17.87</td>  <td> 2.888e+07</td>  <td>     17.45</td> \n",
       "</tr>\n",
       "<tr>\n",
       "  <th>5</th>  <td>     17.19</td>  <td>     18.05</td>  <td> 2.932e+07</td>  <td>     17.53</td> \n",
       "</tr>\n",
       "<tr>\n",
       "  <th>6</th>  <td>     17.17*</td> <td>     18.19</td>  <td> 2.857e+07*</td> <td>     17.57</td> \n",
       "</tr>\n",
       "<tr>\n",
       "  <th>7</th>  <td>     17.21</td>  <td>     18.40</td>  <td> 2.987e+07</td>  <td>     17.68</td> \n",
       "</tr>\n",
       "<tr>\n",
       "  <th>8</th>  <td>     17.20</td>  <td>     18.55</td>  <td> 2.950e+07</td>  <td>     17.73</td> \n",
       "</tr>\n",
       "<tr>\n",
       "  <th>9</th>  <td>     17.22</td>  <td>     18.73</td>  <td> 3.022e+07</td>  <td>     17.82</td> \n",
       "</tr>\n",
       "<tr>\n",
       "  <th>10</th> <td>     17.24</td>  <td>     18.92</td>  <td> 3.086e+07</td>  <td>     17.91</td> \n",
       "</tr>\n",
       "<tr>\n",
       "  <th>11</th> <td>     17.28</td>  <td>     19.11</td>  <td> 3.196e+07</td>  <td>     18.00</td> \n",
       "</tr>\n",
       "<tr>\n",
       "  <th>12</th> <td>     17.25</td>  <td>     19.25</td>  <td> 3.123e+07</td>  <td>     18.04</td> \n",
       "</tr>\n",
       "<tr>\n",
       "  <th>13</th> <td>     17.29</td>  <td>     19.45</td>  <td> 3.235e+07</td>  <td>     18.14</td> \n",
       "</tr>\n",
       "<tr>\n",
       "  <th>14</th> <td>     17.31</td>  <td>     19.64</td>  <td> 3.326e+07</td>  <td>     18.23</td> \n",
       "</tr>\n",
       "<tr>\n",
       "  <th>15</th> <td>     17.36</td>  <td>     19.85</td>  <td> 3.503e+07</td>  <td>     18.35</td> \n",
       "</tr>\n",
       "<tr>\n",
       "  <th>16</th> <td>     17.38</td>  <td>     20.04</td>  <td> 3.585e+07</td>  <td>     18.43</td> \n",
       "</tr>\n",
       "<tr>\n",
       "  <th>17</th> <td>     17.42</td>  <td>     20.24</td>  <td> 3.730e+07</td>  <td>     18.54</td> \n",
       "</tr>\n",
       "<tr>\n",
       "  <th>18</th> <td>     17.41</td>  <td>     20.39</td>  <td> 3.710e+07</td>  <td>     18.59</td> \n",
       "</tr>\n",
       "<tr>\n",
       "  <th>19</th> <td>     17.39</td>  <td>     20.54</td>  <td> 3.661e+07</td>  <td>     18.64</td> \n",
       "</tr>\n",
       "<tr>\n",
       "  <th>20</th> <td>     17.39</td>  <td>     20.70</td>  <td> 3.658e+07</td>  <td>     18.70</td> \n",
       "</tr>\n",
       "</table>"
      ],
      "text/plain": [
       "<class 'statsmodels.iolib.table.SimpleTable'>"
      ]
     },
     "execution_count": 30,
     "metadata": {},
     "output_type": "execute_result"
    }
   ],
   "source": [
    "#Applicatio du modéle avec des paramétres allant de 0 à 20  \n",
    "modselect = model.select_order(20)\n",
    "modselect.summary()"
   ]
  },
  {
   "cell_type": "code",
   "execution_count": 31,
   "metadata": {},
   "outputs": [
    {
     "data": {
      "text/plain": [
       "  Summary of Regression Results   \n",
       "==================================\n",
       "Model:                         VAR\n",
       "Method:                        OLS\n",
       "Date:           Thu, 27, Feb, 2020\n",
       "Time:                     21:05:25\n",
       "--------------------------------------------------------------------\n",
       "No. of Equations:         4.00000    BIC:                    18.1355\n",
       "Nobs:                     402.000    HQIC:                   17.5349\n",
       "Log likelihood:          -5627.06    FPE:                2.78392e+07\n",
       "AIC:                      17.1413    Det(Omega_mle):     2.18700e+07\n",
       "--------------------------------------------------------------------\n",
       "Results for equation temperature\n",
       "=============================================================================================\n",
       "                                coefficient       std. error           t-stat            prob\n",
       "---------------------------------------------------------------------------------------------\n",
       "const                             28.681888        18.834822            1.523           0.128\n",
       "L1.temperature                     0.736491         0.050158           14.684           0.000\n",
       "L1.pressure                       -0.017403         0.010636           -1.636           0.102\n",
       "L1.windspeed                       0.005064         0.003083            1.642           0.101\n",
       "L1.electricity_consumption        -0.003970         0.002959           -1.342           0.180\n",
       "L2.temperature                     0.188634         0.062699            3.009           0.003\n",
       "L2.pressure                        0.000758         0.010683            0.071           0.943\n",
       "L2.windspeed                      -0.011430         0.004272           -2.676           0.007\n",
       "L2.electricity_consumption         0.002826         0.004142            0.682           0.495\n",
       "L3.temperature                     0.128505         0.062807            2.046           0.041\n",
       "L3.pressure                       -0.003496         0.010751           -0.325           0.745\n",
       "L3.windspeed                       0.011027         0.004325            2.550           0.011\n",
       "L3.electricity_consumption         0.003353         0.004141            0.810           0.418\n",
       "L4.temperature                    -0.162248         0.062928           -2.578           0.010\n",
       "L4.pressure                        0.003231         0.010774            0.300           0.764\n",
       "L4.windspeed                      -0.007694         0.004351           -1.769           0.077\n",
       "L4.electricity_consumption        -0.002282         0.004131           -0.552           0.581\n",
       "L5.temperature                     0.026671         0.061806            0.432           0.666\n",
       "L5.pressure                       -0.029069         0.010646           -2.731           0.006\n",
       "L5.windspeed                       0.003528         0.004352            0.811           0.417\n",
       "L5.electricity_consumption        -0.001473         0.004111           -0.358           0.720\n",
       "L6.temperature                    -0.214137         0.049787           -4.301           0.000\n",
       "L6.pressure                        0.017364         0.010506            1.653           0.098\n",
       "L6.windspeed                      -0.002124         0.003119           -0.681           0.496\n",
       "L6.electricity_consumption         0.001534         0.002962            0.518           0.605\n",
       "=============================================================================================\n",
       "\n",
       "Results for equation pressure\n",
       "=============================================================================================\n",
       "                                coefficient       std. error           t-stat            prob\n",
       "---------------------------------------------------------------------------------------------\n",
       "const                            507.107455        90.663618            5.593           0.000\n",
       "L1.temperature                     0.014527         0.241440            0.060           0.952\n",
       "L1.pressure                        0.144268         0.051198            2.818           0.005\n",
       "L1.windspeed                       0.007742         0.014843            0.522           0.602\n",
       "L1.electricity_consumption        -0.020491         0.014246           -1.438           0.150\n",
       "L2.temperature                    -0.275251         0.301810           -0.912           0.362\n",
       "L2.pressure                        0.134503         0.051425            2.616           0.009\n",
       "L2.windspeed                      -0.011437         0.020562           -0.556           0.578\n",
       "L2.electricity_consumption        -0.015160         0.019937           -0.760           0.447\n",
       "L3.temperature                    -0.404338         0.302330           -1.337           0.181\n",
       "L3.pressure                        0.077582         0.051749            1.499           0.134\n",
       "L3.windspeed                       0.014579         0.020819            0.700           0.484\n",
       "L3.electricity_consumption        -0.007952         0.019935           -0.399           0.690\n",
       "L4.temperature                    -0.030809         0.302912           -0.102           0.919\n",
       "L4.pressure                       -0.067061         0.051864           -1.293           0.196\n",
       "L4.windspeed                      -0.005277         0.020942           -0.252           0.801\n",
       "L4.electricity_consumption         0.001408         0.019885            0.071           0.944\n",
       "L5.temperature                     0.223019         0.297513            0.750           0.453\n",
       "L5.pressure                        0.111712         0.051245            2.180           0.029\n",
       "L5.windspeed                       0.002043         0.020948            0.098           0.922\n",
       "L5.electricity_consumption         0.026741         0.019789            1.351           0.177\n",
       "L6.temperature                     0.178383         0.239655            0.744           0.457\n",
       "L6.pressure                        0.094843         0.050574            1.875           0.061\n",
       "L6.windspeed                      -0.010455         0.015012           -0.696           0.486\n",
       "L6.electricity_consumption        -0.011726         0.014258           -0.822           0.411\n",
       "=============================================================================================\n",
       "\n",
       "Results for equation windspeed\n",
       "=============================================================================================\n",
       "                                coefficient       std. error           t-stat            prob\n",
       "---------------------------------------------------------------------------------------------\n",
       "const                           -420.760566       314.438489           -1.338           0.181\n",
       "L1.temperature                     1.491876         0.837359            1.782           0.075\n",
       "L1.pressure                        0.067209         0.177566            0.378           0.705\n",
       "L1.windspeed                       0.955951         0.051477           18.570           0.000\n",
       "L1.electricity_consumption        -0.020758         0.049406           -0.420           0.674\n",
       "L2.temperature                    -1.993471         1.046732           -1.904           0.057\n",
       "L2.pressure                        0.067064         0.178351            0.376           0.707\n",
       "L2.windspeed                       0.013156         0.071312            0.184           0.854\n",
       "L2.electricity_consumption        -0.013139         0.069144           -0.190           0.849\n",
       "L3.temperature                    -0.222188         1.048537           -0.212           0.832\n",
       "L3.pressure                       -0.148966         0.179475           -0.830           0.407\n",
       "L3.windspeed                       0.008409         0.072206            0.116           0.907\n",
       "L3.electricity_consumption         0.039012         0.069140            0.564           0.573\n",
       "L4.temperature                     0.700656         1.050557            0.667           0.505\n",
       "L4.pressure                        0.083234         0.179875            0.463           0.644\n",
       "L4.windspeed                      -0.045190         0.072631           -0.622           0.534\n",
       "L4.electricity_consumption        -0.058754         0.068963           -0.852           0.394\n",
       "L5.temperature                     1.873291         1.031830            1.816           0.069\n",
       "L5.pressure                       -0.034546         0.177726           -0.194           0.846\n",
       "L5.windspeed                       0.028723         0.072653            0.395           0.693\n",
       "L5.electricity_consumption         0.063908         0.068631            0.931           0.352\n",
       "L6.temperature                    -1.539132         0.831168           -1.852           0.064\n",
       "L6.pressure                        0.390489         0.175400            2.226           0.026\n",
       "L6.windspeed                      -0.023642         0.052066           -0.454           0.650\n",
       "L6.electricity_consumption        -0.000332         0.049449           -0.007           0.995\n",
       "=============================================================================================\n",
       "\n",
       "Results for equation electricity_consumption\n",
       "=============================================================================================\n",
       "                                coefficient       std. error           t-stat            prob\n",
       "---------------------------------------------------------------------------------------------\n",
       "const                            493.439215       327.114838            1.508           0.131\n",
       "L1.temperature                    -2.406214         0.871116           -2.762           0.006\n",
       "L1.pressure                       -0.106099         0.184724           -0.574           0.566\n",
       "L1.windspeed                       0.064105         0.053552            1.197           0.231\n",
       "L1.electricity_consumption         0.977720         0.051398           19.023           0.000\n",
       "L2.temperature                    -0.354882         1.088931           -0.326           0.745\n",
       "L2.pressure                        0.145829         0.185541            0.786           0.432\n",
       "L2.windspeed                      -0.128763         0.074186           -1.736           0.083\n",
       "L2.electricity_consumption         0.006435         0.071932            0.089           0.929\n",
       "L3.temperature                     2.189414         1.090807            2.007           0.045\n",
       "L3.pressure                       -0.198074         0.186711           -1.061           0.289\n",
       "L3.windspeed                       0.026086         0.075117            0.347           0.728\n",
       "L3.electricity_consumption        -0.023283         0.071927           -0.324           0.746\n",
       "L4.temperature                     1.127301         1.092910            1.031           0.302\n",
       "L4.pressure                       -0.124528         0.187126           -0.665           0.506\n",
       "L4.windspeed                       0.073239         0.075559            0.969           0.332\n",
       "L4.electricity_consumption         0.014435         0.071744            0.201           0.841\n",
       "L5.temperature                    -0.420356         1.073428           -0.392           0.695\n",
       "L5.pressure                       -0.100872         0.184890           -0.546           0.585\n",
       "L5.windspeed                      -0.068791         0.075582           -0.910           0.363\n",
       "L5.electricity_consumption         0.028624         0.071398            0.401           0.688\n",
       "L6.temperature                    -0.595448         0.864675           -0.689           0.491\n",
       "L6.pressure                       -0.097082         0.182471           -0.532           0.595\n",
       "L6.windspeed                       0.016850         0.054165            0.311           0.756\n",
       "L6.electricity_consumption        -0.060374         0.051442           -1.174           0.241\n",
       "=============================================================================================\n",
       "\n",
       "Correlation matrix of residuals\n",
       "                           temperature  pressure  windspeed  electricity_consumption\n",
       "temperature                   1.000000  0.026054   0.011799                -0.019509\n",
       "pressure                      0.026054  1.000000  -0.036819                -0.010882\n",
       "windspeed                     0.011799 -0.036819   1.000000                -0.034779\n",
       "electricity_consumption      -0.019509 -0.010882  -0.034779                 1.000000\n",
       "\n"
      ]
     },
     "execution_count": 31,
     "metadata": {},
     "output_type": "execute_result"
    }
   ],
   "source": [
    "#Choix du paramétres qui minimise le critére AIC\n",
    "results = model.fit(maxlags=20, ic='aic')\n",
    "results.summary()"
   ]
  },
  {
   "cell_type": "code",
   "execution_count": 32,
   "metadata": {},
   "outputs": [
    {
     "name": "stdout",
     "output_type": "stream",
     "text": [
      "causalite de la temperature\n"
     ]
    },
    {
     "data": {
      "text/html": [
       "<table class=\"simpletable\">\n",
       "<caption>Granger causality F-test. H_0: temperature does not Granger-cause electricity_consumption. Conclusion: reject H_0 at 5% significance level.</caption>\n",
       "<tr>\n",
       "  <th>Test statistic</th> <th>Critical value</th> <th>p-value</th>    <th>df</th>    \n",
       "</tr>\n",
       "<tr>\n",
       "       <td>2.666</td>          <td>2.105</td>      <td>0.014</td>  <td>(6, 1508)</td>\n",
       "</tr>\n",
       "</table>"
      ],
      "text/plain": [
       "<class 'statsmodels.iolib.table.SimpleTable'>"
      ]
     },
     "execution_count": 32,
     "metadata": {},
     "output_type": "execute_result"
    }
   ],
   "source": [
    "#Application du test de causalité de Granger pour la température \n",
    "print('causalite de la temperature')\n",
    "causalite1 = results.test_causality(['electricity_consumption'],['temperature'],kind='f')\n",
    "causalite1.summary()"
   ]
  },
  {
   "cell_type": "markdown",
   "metadata": {},
   "source": [
    "Puisque p-value < 0.05 , on rejette l'hypothése nulle H0: la température ne cause pas au sens de Granger la consommation d'éléctricité."
   ]
  },
  {
   "cell_type": "code",
   "execution_count": 33,
   "metadata": {},
   "outputs": [
    {
     "name": "stdout",
     "output_type": "stream",
     "text": [
      "causalite de la pression\n"
     ]
    },
    {
     "data": {
      "text/html": [
       "<table class=\"simpletable\">\n",
       "<caption>Granger causality F-test. H_0: pressure does not Granger-cause electricity_consumption. Conclusion: fail to reject H_0 at 5% significance level.</caption>\n",
       "<tr>\n",
       "  <th>Test statistic</th> <th>Critical value</th> <th>p-value</th>    <th>df</th>    \n",
       "</tr>\n",
       "<tr>\n",
       "      <td>0.6924</td>          <td>2.105</td>      <td>0.656</td>  <td>(6, 1508)</td>\n",
       "</tr>\n",
       "</table>"
      ],
      "text/plain": [
       "<class 'statsmodels.iolib.table.SimpleTable'>"
      ]
     },
     "execution_count": 33,
     "metadata": {},
     "output_type": "execute_result"
    }
   ],
   "source": [
    "#Application du test de causalité de Granger pour la pression\n",
    "print('causalite de la pression')\n",
    "causalite2 = results.test_causality(['electricity_consumption'],['pressure'],kind='f')\n",
    "causalite2.summary()"
   ]
  },
  {
   "cell_type": "markdown",
   "metadata": {},
   "source": [
    "Puisque p-value > 0.05 , on ne rejette pas l'hypothése nulle H0: la pression ne cause pas au sens de Granger la consommation d'éléctricité."
   ]
  },
  {
   "cell_type": "code",
   "execution_count": 34,
   "metadata": {},
   "outputs": [
    {
     "name": "stdout",
     "output_type": "stream",
     "text": [
      "causalite de la vitesse du vent\n"
     ]
    },
    {
     "data": {
      "text/html": [
       "<table class=\"simpletable\">\n",
       "<caption>Granger causality F-test. H_0: windspeed does not Granger-cause electricity_consumption. Conclusion: fail to reject H_0 at 5% significance level.</caption>\n",
       "<tr>\n",
       "  <th>Test statistic</th> <th>Critical value</th> <th>p-value</th>    <th>df</th>    \n",
       "</tr>\n",
       "<tr>\n",
       "      <td>0.8465</td>          <td>2.105</td>      <td>0.534</td>  <td>(6, 1508)</td>\n",
       "</tr>\n",
       "</table>"
      ],
      "text/plain": [
       "<class 'statsmodels.iolib.table.SimpleTable'>"
      ]
     },
     "execution_count": 34,
     "metadata": {},
     "output_type": "execute_result"
    }
   ],
   "source": [
    "#Application du test de causalité de Granger pour la vitesse de vent\n",
    "print('causalite de la vitesse du vent')\n",
    "causalite3 = results.test_causality(['electricity_consumption'],['windspeed'],kind='f')\n",
    "causalite3.summary()"
   ]
  },
  {
   "cell_type": "markdown",
   "metadata": {},
   "source": [
    "Puisque p-value > 0.05 , on ne rejette pas l'hypothése nulle H0: la vitesse de vent ne cause pas au sens de Granger la consommation d'éléctricité."
   ]
  },
  {
   "cell_type": "code",
   "execution_count": 36,
   "metadata": {},
   "outputs": [],
   "source": [
    "timeseries=timeseries[['temperature','electricity_consumption']]\n",
    "training=timeseries[:408]\n",
    "test=timeseries['electricity_consumption'][408:]"
   ]
  },
  {
   "cell_type": "code",
   "execution_count": 37,
   "metadata": {},
   "outputs": [],
   "source": [
    "#Application du modéle choisie pour la prédiction chaque 6h\n",
    "pred=list()\n",
    "Actual=copy.deepcopy(training.values)\n",
    "for i in range(144):\n",
    "\n",
    "\n",
    "    model = VAR(Actual)\n",
    "    results = model.fit(maxlags=20, ic='aic')\n",
    "\n",
    "    if i%6==0:\n",
    "        Actual=copy.deepcopy(timeseries.values[:408+i])\n",
    "    PredictedValue=pd.DataFrame(results.forecast(Actual, 1))[1][0]\n",
    "    pred.append(PredictedValue)\n",
    "    Actual=list(Actual)\n",
    "    Actual.append([timeseries.values[408+i,0],PredictedValue])\n",
    "    Actual=np.array(Actual)"
   ]
  },
  {
   "cell_type": "code",
   "execution_count": 40,
   "metadata": {},
   "outputs": [],
   "source": [
    "predict=pd.Series(np.array(pred),index=pd.date_range('2013-09-18 00:00:00',periods=144,freq='h'))"
   ]
  },
  {
   "cell_type": "code",
   "execution_count": 42,
   "metadata": {},
   "outputs": [
    {
     "data": {
      "image/png": "[encoded data removed]",
      "text/plain": [
       "<Figure size 1440x720 with 1 Axes>"
      ]
     },
     "metadata": {
      "needs_background": "light"
     },
     "output_type": "display_data"
    }
   ],
   "source": [
    "fig, ax = plt.subplots(figsize=(20,10))\n",
    "ax.plot(test, '-b', label='real')\n",
    "ax.plot(predict, '--r', label='pre')\n",
    "\n",
    "leg = ax.legend();\n",
    "plt.savefig('var.png')"
   ]
  },
  {
   "cell_type": "code",
   "execution_count": 43,
   "metadata": {},
   "outputs": [
    {
     "data": {
      "text/plain": [
       "1462.9924780806853"
      ]
     },
     "execution_count": 43,
     "metadata": {},
     "output_type": "execute_result"
    }
   ],
   "source": [
    "Error=mean_squared_error(test,predict)\n",
    "Error"
   ]
  }
 ],
 "metadata": {
  "kernelspec": {
   "display_name": "Python 3",
   "language": "python",
   "name": "python3"
  },
  "language_info": {
   "codemirror_mode": {
    "name": "ipython",
    "version": 3
   },
   "file_extension": ".py",
   "mimetype": "text/x-python",
   "name": "python",
   "nbconvert_exporter": "python",
   "pygments_lexer": "ipython3",
   "version": "3.7.4"
  }
 },
 "nbformat": 4,
 "nbformat_minor": 4
}
